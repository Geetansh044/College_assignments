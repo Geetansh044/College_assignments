{
 "cells": [
  {
   "cell_type": "markdown",
   "metadata": {},
   "source": [
    "1. WAP to create a LIST that contains marks of students. Count the\n",
    "occurrence of each marks in the list."
   ]
  },
  {
   "cell_type": "code",
   "execution_count": 1,
   "metadata": {},
   "outputs": [
    {
     "data": {
      "text/plain": [
       "{0: 10, 1: 10, 2: 8, 3: 12, 4: 9, 5: 10, 6: 8, 7: 10, 8: 13, 9: 5, 10: 5}"
      ]
     },
     "execution_count": 1,
     "metadata": {},
     "output_type": "execute_result"
    }
   ],
   "source": [
    "import random\n",
    "marks_list = []\n",
    "\n",
    "for i in range(100):\n",
    "    marks_list.append(random.randint(0, 10))\n",
    "    \n",
    "kinds = set(marks_list)\n",
    "counts = {}\n",
    "\n",
    "for i in kinds:\n",
    "    counts[i] = marks_list.count(i)\n",
    "    \n",
    "counts"
   ]
  },
  {
   "cell_type": "markdown",
   "metadata": {},
   "source": [
    "--------------------"
   ]
  },
  {
   "cell_type": "markdown",
   "metadata": {},
   "source": [
    "2. WAP to read a file containing book records and find the number of\n",
    "unique books in it."
   ]
  },
  {
   "cell_type": "code",
   "execution_count": 2,
   "metadata": {},
   "outputs": [],
   "source": [
    "with open('./books.txt', 'w') as books:\n",
    "    books.write('''\n",
    "    The Game\n",
    "    The Battle\n",
    "    Begining\n",
    "    Again\n",
    "    This and That\n",
    "    Have I\n",
    "    Me and you\n",
    "    If I die\n",
    "    I wanna live\n",
    "    Travelling the world\n",
    "    Again\n",
    "    This and That\n",
    "    Never Again\n",
    "    Lord of the Rings\n",
    "    The Hobbit\n",
    "    Lord of the Rings  \n",
    "    ''')"
   ]
  },
  {
   "cell_type": "code",
   "execution_count": 3,
   "metadata": {},
   "outputs": [],
   "source": [
    "with open('./books.txt', 'r') as books:\n",
    "    \n",
    "    titles = (books.read())\n",
    "    \n",
    "final = []"
   ]
  },
  {
   "cell_type": "code",
   "execution_count": 4,
   "metadata": {},
   "outputs": [],
   "source": [
    "for i in titles.split('\\n'):\n",
    "    if len(i.strip()) > 1:\n",
    "        final.append(i.strip())"
   ]
  },
  {
   "cell_type": "code",
   "execution_count": 5,
   "metadata": {},
   "outputs": [
    {
     "name": "stdout",
     "output_type": "stream",
     "text": [
      "13\n"
     ]
    }
   ],
   "source": [
    "unique = []\n",
    "for i in final:\n",
    "    if i not in unique:\n",
    "        unique.append(i)\n",
    "        \n",
    "print(len(unique))"
   ]
  },
  {
   "cell_type": "markdown",
   "metadata": {},
   "source": [
    "-------------------"
   ]
  },
  {
   "cell_type": "markdown",
   "metadata": {},
   "source": [
    "3. WAP to find the occurrence of an Input word in the file named\n",
    "“all_words.txt”."
   ]
  },
  {
   "cell_type": "code",
   "execution_count": 6,
   "metadata": {},
   "outputs": [
    {
     "name": "stdout",
     "output_type": "stream",
     "text": [
      "you\n"
     ]
    }
   ],
   "source": [
    "input_word = input()"
   ]
  },
  {
   "cell_type": "code",
   "execution_count": 7,
   "metadata": {},
   "outputs": [],
   "source": [
    "words = []\n",
    "\n",
    "with open('all_words.txt', 'r') as all_words:\n",
    "    \n",
    "    for i in all_words.read().split('\\n'):\n",
    "        \n",
    "        words.append(i)"
   ]
  },
  {
   "cell_type": "code",
   "execution_count": 8,
   "metadata": {},
   "outputs": [],
   "source": [
    "semi_final = []\n",
    "for i in words:    \n",
    "    if len(i) > 2:\n",
    "        if i[0].isalpha():\n",
    "            semi_final.append(i)"
   ]
  },
  {
   "cell_type": "code",
   "execution_count": 9,
   "metadata": {},
   "outputs": [],
   "source": [
    "final = []\n",
    "for i in semi_final:\n",
    "    \n",
    "    for j in i.split(' '):\n",
    "        final.append(j)"
   ]
  },
  {
   "cell_type": "code",
   "execution_count": 10,
   "metadata": {},
   "outputs": [
    {
     "data": {
      "text/plain": [
       "120"
      ]
     },
     "execution_count": 10,
     "metadata": {},
     "output_type": "execute_result"
    }
   ],
   "source": [
    "occurance = final.count(input_word)\n",
    "occurance"
   ]
  },
  {
   "cell_type": "markdown",
   "metadata": {},
   "source": [
    "---------------------"
   ]
  },
  {
   "cell_type": "markdown",
   "metadata": {},
   "source": [
    "4. WAP to input the string from the user and find the count of each word\n",
    "in it."
   ]
  },
  {
   "cell_type": "code",
   "execution_count": 13,
   "metadata": {},
   "outputs": [
    {
     "name": "stdout",
     "output_type": "stream",
     "text": [
      "Naruto is the best Anime in the world and no one doubts that. There is no need to doubt such a obvious thing.\n"
     ]
    },
    {
     "data": {
      "text/plain": [
       "{'one': 1,\n",
       " 'a': 1,\n",
       " 'world': 1,\n",
       " 'to': 1,\n",
       " 'thing.': 1,\n",
       " 'in': 1,\n",
       " 'and': 1,\n",
       " 'doubt': 1,\n",
       " 'is': 2,\n",
       " 'that.': 1,\n",
       " 'obvious': 1,\n",
       " 'best': 1,\n",
       " 'Anime': 1,\n",
       " 'doubts': 1,\n",
       " 'need': 1,\n",
       " 'the': 2,\n",
       " 'Naruto': 1,\n",
       " 'no': 2,\n",
       " 'such': 1,\n",
       " 'There': 1}"
      ]
     },
     "execution_count": 13,
     "metadata": {},
     "output_type": "execute_result"
    }
   ],
   "source": [
    "input_string = input()\n",
    "\n",
    "words = list(input_string.split(' '))\n",
    "kinds = set(words)\n",
    "counts = {}\n",
    "\n",
    "for i in kinds:\n",
    "    counts[i] = words.count(i)\n",
    "    \n",
    "counts"
   ]
  },
  {
   "cell_type": "markdown",
   "metadata": {},
   "source": [
    "------------------"
   ]
  },
  {
   "cell_type": "markdown",
   "metadata": {},
   "source": [
    "5. WAP to read a “input.txt” file having records of all products and their\n",
    "price. Find the unique product and save them in another file\n",
    "“final.txt”."
   ]
  },
  {
   "cell_type": "code",
   "execution_count": 14,
   "metadata": {},
   "outputs": [],
   "source": [
    "with open('input.txt', 'w') as input_file:\n",
    "    \n",
    "    input_file.write('''\n",
    "    TV 500\n",
    "    AC 600\n",
    "    Car 2000\n",
    "    Mango 1\n",
    "    Laptop 600\n",
    "    Car 5000\n",
    "    Desktop 200\n",
    "    Games 20\n",
    "    Pepsi 1\n",
    "    Router 10\n",
    "    Tablet 300\n",
    "    TV 550''')"
   ]
  },
  {
   "cell_type": "code",
   "execution_count": 44,
   "metadata": {},
   "outputs": [],
   "source": [
    "input_txt = open('input.txt', 'r')\n",
    "final_txt = open('final.txt', 'w')\n",
    "\n",
    "text = input_txt.readlines()\n",
    "products = []\n",
    "\n",
    "for i in text[1:]:\n",
    "\n",
    "    t = i.split('\\n')[0].strip()\n",
    "    product, price = t.split(' ')\n",
    "    \n",
    "    if product not in products:\n",
    "        products.append(product)\n",
    "        \n",
    "        final_txt.write(str(product) + '\\n')\n",
    "        \n",
    "input_txt.close()\n",
    "final_txt.close()"
   ]
  },
  {
   "cell_type": "code",
   "execution_count": 45,
   "metadata": {},
   "outputs": [
    {
     "name": "stdout",
     "output_type": "stream",
     "text": [
      "TV\n",
      "AC\n",
      "Car\n",
      "Mango\n",
      "Laptop\n",
      "Desktop\n",
      "Games\n",
      "Pepsi\n",
      "Router\n",
      "Tablet\n",
      "\n"
     ]
    }
   ],
   "source": [
    "with open('final.txt', 'r') as f:\n",
    "    print(f.read())"
   ]
  }
 ],
 "metadata": {
  "kernelspec": {
   "display_name": "Python 3",
   "language": "python",
   "name": "python3"
  },
  "language_info": {
   "codemirror_mode": {
    "name": "ipython",
    "version": 3
   },
   "file_extension": ".py",
   "mimetype": "text/x-python",
   "name": "python",
   "nbconvert_exporter": "python",
   "pygments_lexer": "ipython3",
   "version": "3.7.7"
  }
 },
 "nbformat": 4,
 "nbformat_minor": 4
}
