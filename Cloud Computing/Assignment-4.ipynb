{
 "cells": [
  {
   "cell_type": "markdown",
   "metadata": {},
   "source": [
    "# Assignment - 4"
   ]
  },
  {
   "cell_type": "markdown",
   "metadata": {},
   "source": [
    "1) Write a Python program to create a tuple with different\n",
    "data types."
   ]
  },
  {
   "cell_type": "code",
   "execution_count": 1,
   "metadata": {},
   "outputs": [
    {
     "name": "stdout",
     "output_type": "stream",
     "text": [
      "<class 'tuple'>\n",
      "('this', 1, 5.6, (5, 6))\n"
     ]
    }
   ],
   "source": [
    "a = ('this', 1, 5.6, (5,6))\n",
    "print(type(a))\n",
    "print(a)"
   ]
  },
  {
   "cell_type": "markdown",
   "metadata": {},
   "source": [
    "----------------"
   ]
  },
  {
   "cell_type": "markdown",
   "metadata": {},
   "source": [
    "2) Write a Python program to add an item in a tuple"
   ]
  },
  {
   "cell_type": "code",
   "execution_count": 2,
   "metadata": {},
   "outputs": [
    {
     "name": "stdout",
     "output_type": "stream",
     "text": [
      "('this', 1, 5.6, (5, 6), 10)\n"
     ]
    }
   ],
   "source": [
    "# Not possible but we could create a new tuple\n",
    "new_tuple = list(a)\n",
    "new_tuple.append(10)\n",
    "new_tuple = tuple(new_tuple)\n",
    "print(new_tuple)"
   ]
  },
  {
   "cell_type": "markdown",
   "metadata": {},
   "source": [
    "--------------"
   ]
  },
  {
   "cell_type": "markdown",
   "metadata": {},
   "source": [
    "3) Write a Python program to convert a tuple to a string."
   ]
  },
  {
   "cell_type": "code",
   "execution_count": 3,
   "metadata": {},
   "outputs": [
    {
     "name": "stdout",
     "output_type": "stream",
     "text": [
      "this 1 5.6 (5, 6) \n"
     ]
    }
   ],
   "source": [
    "string = ''\n",
    "\n",
    "for i in a:\n",
    "    try:\n",
    "        string += i + ' '\n",
    "    except:\n",
    "        string += str(i) + ' '\n",
    "        \n",
    "print(string)"
   ]
  },
  {
   "cell_type": "markdown",
   "metadata": {},
   "source": [
    "---------"
   ]
  },
  {
   "cell_type": "markdown",
   "metadata": {},
   "source": [
    "4) Write a Python program to get the 4th element and 4th\n",
    "element from last of a tuple."
   ]
  },
  {
   "cell_type": "code",
   "execution_count": 4,
   "metadata": {},
   "outputs": [
    {
     "name": "stdout",
     "output_type": "stream",
     "text": [
      "(0, 1, 2, 3, 4, 5, 6, 7, 8, 9)\n",
      "Fourth ele from start:  3\n",
      "Fourth ele from last:  6\n"
     ]
    }
   ],
   "source": [
    "a = tuple(range(10))\n",
    "print(a)\n",
    "print('Fourth ele from start: ', a[3])\n",
    "print('Fourth ele from last: ', a[-4])"
   ]
  },
  {
   "cell_type": "markdown",
   "metadata": {},
   "source": [
    "----------------------"
   ]
  },
  {
   "cell_type": "markdown",
   "metadata": {},
   "source": [
    "5) Write a Python program to find the repeated items of a\n",
    "tuple."
   ]
  },
  {
   "cell_type": "code",
   "execution_count": 5,
   "metadata": {},
   "outputs": [
    {
     "name": "stdout",
     "output_type": "stream",
     "text": [
      "[0, 1, 2, 3, 4, 5, 6, 7, 8, 9]\n"
     ]
    }
   ],
   "source": [
    "a = list(range(10))\n",
    "b = list(range(20))\n",
    "c = [i for i in a]\n",
    "for i in b:\n",
    "    c.append(i)\n",
    "\n",
    "c = tuple(c)\n",
    "repeated = []\n",
    "\n",
    "for i in c:\n",
    "    if c.count(i) > 1 and i not in repeated:\n",
    "        repeated.append(i)\n",
    "\n",
    "print(repeated)"
   ]
  },
  {
   "cell_type": "markdown",
   "metadata": {},
   "source": [
    "--------------"
   ]
  },
  {
   "cell_type": "markdown",
   "metadata": {},
   "source": [
    "6) Write a Python program to check whether an element\n",
    "exists within a tuple"
   ]
  },
  {
   "cell_type": "code",
   "execution_count": 6,
   "metadata": {},
   "outputs": [
    {
     "name": "stdout",
     "output_type": "stream",
     "text": [
      "Exist\n"
     ]
    }
   ],
   "source": [
    "ele = 13\n",
    "\n",
    "if ele in c:\n",
    "    print('Exist')\n",
    "else:\n",
    "    print(\"Don't exist\")"
   ]
  },
  {
   "cell_type": "markdown",
   "metadata": {},
   "source": [
    "------------"
   ]
  },
  {
   "cell_type": "markdown",
   "metadata": {},
   "source": [
    "7) Write a Python program to convert a list to a tuple"
   ]
  },
  {
   "cell_type": "code",
   "execution_count": 7,
   "metadata": {},
   "outputs": [
    {
     "name": "stdout",
     "output_type": "stream",
     "text": [
      "<class 'list'> <class 'tuple'>\n"
     ]
    }
   ],
   "source": [
    "a = list(range(10))\n",
    "b = tuple(a)\n",
    "print(type(a), type(b))"
   ]
  },
  {
   "cell_type": "markdown",
   "metadata": {},
   "source": [
    "------------"
   ]
  },
  {
   "cell_type": "markdown",
   "metadata": {},
   "source": [
    "8) Write a Python program to slice a tuple"
   ]
  },
  {
   "cell_type": "code",
   "execution_count": 25,
   "metadata": {},
   "outputs": [
    {
     "name": "stdout",
     "output_type": "stream",
     "text": [
      "b:  (0, 1, 2, 3, 4, 5, 6, 7, 8, 9)\n",
      "Slice b:  (3, 4, 5, 6)\n"
     ]
    }
   ],
   "source": [
    "b = tuple(range(10))\n",
    "print(\"b: \", b)\n",
    "print('Slice b: ', b[3:7])"
   ]
  },
  {
   "cell_type": "markdown",
   "metadata": {},
   "source": [
    "----------"
   ]
  },
  {
   "cell_type": "markdown",
   "metadata": {},
   "source": [
    "9) Write a Python program to find the length of a tuple"
   ]
  },
  {
   "cell_type": "code",
   "execution_count": 9,
   "metadata": {},
   "outputs": [
    {
     "name": "stdout",
     "output_type": "stream",
     "text": [
      "tuple:  (0, 1, 2, 3, 4, 5, 6, 7, 8, 9)\n",
      "Length of tuple:  10\n",
      "Another way:  10\n"
     ]
    }
   ],
   "source": [
    "print(\"tuple: \", b)\n",
    "print('Length of tuple: ', len(b))\n",
    "\n",
    "def length(a):\n",
    "    count = 0\n",
    "    for i in a:\n",
    "        count += 1\n",
    "    return count\n",
    "\n",
    "print(\"Another way: \", length(b))"
   ]
  },
  {
   "cell_type": "markdown",
   "metadata": {},
   "source": [
    "----------"
   ]
  },
  {
   "cell_type": "markdown",
   "metadata": {},
   "source": [
    "10) Write a Python program to convert a list of tuples into a\n",
    "dictionary"
   ]
  },
  {
   "cell_type": "code",
   "execution_count": 10,
   "metadata": {},
   "outputs": [
    {
     "name": "stdout",
     "output_type": "stream",
     "text": [
      "{0: (1, 2, 3), 1: (4, 5, 6), 2: (7, 8, 9)}\n",
      "<class 'dict'>\n"
     ]
    }
   ],
   "source": [
    "a = [(1,2,3), (4,5,6), (7,8,9)]\n",
    "b = {}\n",
    "\n",
    "for i in range(len(a)):\n",
    "    \n",
    "    b[i] = a[i]\n",
    "    \n",
    "print(b)\n",
    "print(type(b))"
   ]
  }
 ],
 "metadata": {
  "kernelspec": {
   "display_name": "Python 3",
   "language": "python",
   "name": "python3"
  },
  "language_info": {
   "codemirror_mode": {
    "name": "ipython",
    "version": 3
   },
   "file_extension": ".py",
   "mimetype": "text/x-python",
   "name": "python",
   "nbconvert_exporter": "python",
   "pygments_lexer": "ipython3",
   "version": "3.7.7"
  }
 },
 "nbformat": 4,
 "nbformat_minor": 4
}
