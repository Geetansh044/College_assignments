{
 "cells": [
  {
   "cell_type": "code",
   "execution_count": 1,
   "metadata": {},
   "outputs": [],
   "source": [
    "import os\n",
    "import random"
   ]
  },
  {
   "cell_type": "code",
   "execution_count": 2,
   "metadata": {},
   "outputs": [],
   "source": [
    "with open('studnet_details.txt', 'w') as sd:\n",
    "    \n",
    "    rows = 20\n",
    "    \n",
    "    \n",
    "    roll_nos = []\n",
    "    \n",
    "    while len(roll_nos) != rows:\n",
    "        \n",
    "        roll_no = random.randint(3000 ,5000)\n",
    "        \n",
    "        if roll_no not in roll_nos:\n",
    "            \n",
    "            roll_nos.append(str(roll_no))\n",
    "    \n",
    "    names = []\n",
    "    \n",
    "    while len(names) != rows:\n",
    "        \n",
    "        n = random.randint(4, 8)\n",
    "        name = ''\n",
    "            \n",
    "        while len(name) != n:\n",
    "                \n",
    "            number = random.randint(97, 122)\n",
    "            letter = chr(number)\n",
    "            name += letter\n",
    "        \n",
    "        names.append(name)\n",
    "        \n",
    "        \n",
    "        \n",
    "    fac_ids = []\n",
    "    \n",
    "    while len(fac_ids) != rows:\n",
    "        \n",
    "        fac_id = random.randint(1000 ,2000)\n",
    "        \n",
    "        if fac_id not in fac_ids:\n",
    "            \n",
    "            fac_ids.append(str(fac_id))\n",
    "        \n",
    "    \n",
    "    data = 'roll_no,' + 'name,' + 'fac_id'\n",
    "    sd.write(data +'\\n')\n",
    "    \n",
    "    for j in range(rows):\n",
    "        \n",
    "        data = str(roll_nos[j]) + ',' + str(names[j]) + ',' + str(fac_ids[j])\n",
    "        sd.write(data + '\\n')"
   ]
  },
  {
   "cell_type": "code",
   "execution_count": 3,
   "metadata": {},
   "outputs": [],
   "source": [
    "with open('marks.txt', 'w') as marks_file:\n",
    "    \n",
    "    marks = []\n",
    "    \n",
    "    for i in range(rows):\n",
    "        \n",
    "        to_append = []\n",
    "        to_append.append(str(roll_nos[i]))\n",
    "        \n",
    "        for j in range(5):\n",
    "            \n",
    "            numbers = random.randint(33, 100)\n",
    "            to_append.append(str(numbers))\n",
    "        \n",
    "        marks.append(to_append)\n",
    "        \n",
    "        \n",
    "    data = 'roll_no,m1,m2,m3,m4,m5'\n",
    "    marks_file.write(data + '\\n')\n",
    "    \n",
    "    for i in marks:\n",
    "        \n",
    "        data = ','.join(i)\n",
    "        marks_file.write(data + '\\n')"
   ]
  },
  {
   "cell_type": "code",
   "execution_count": 4,
   "metadata": {},
   "outputs": [],
   "source": [
    "with open('faculty.txt', 'w') as fac_file:\n",
    "    \n",
    "    fac_names = []\n",
    "    \n",
    "    while len(fac_names) != rows:\n",
    "        \n",
    "        n = random.randint(4, 8)\n",
    "        name = ''\n",
    "            \n",
    "        while len(name) != n:\n",
    "                \n",
    "            number = random.randint(97, 122)\n",
    "            letter = chr(number)\n",
    "            name += letter\n",
    "        \n",
    "        if name not in fac_names:\n",
    "            if name not in names:\n",
    "                fac_names.append(name)\n",
    "        \n",
    "    \n",
    "    data = 'fac_name,fac_id'\n",
    "    fac_file.write(data + '\\n')\n",
    "    \n",
    "    for i in range(rows):\n",
    "        \n",
    "        data = str(fac_names[i]) + ',' + str(fac_ids[i])\n",
    "        fac_file.write(data + '\\n')"
   ]
  },
  {
   "cell_type": "code",
   "execution_count": null,
   "metadata": {},
   "outputs": [],
   "source": []
  },
  {
   "cell_type": "markdown",
   "metadata": {},
   "source": [
    "### Student record"
   ]
  },
  {
   "cell_type": "code",
   "execution_count": 5,
   "metadata": {},
   "outputs": [
    {
     "name": "stdout",
     "output_type": "stream",
     "text": [
      "roll_no      name       fac_id\n",
      "3959        astrqt        1686\n",
      "4802         diug         1932\n",
      "4059       bwvlwkj        1118\n",
      "3707       nxrauvf        1719\n",
      "3640       xjubxqg        1372\n",
      "4661        nrkor         1014\n",
      "4479        wlcpuq        1873\n",
      "3546       wuqmqhlk       1576\n",
      "3013       atjzsxzr       1021\n",
      "4867        jurtyy        1227\n",
      "4905         vgrl         1262\n",
      "4725        elpfhi        1194\n",
      "4010       bhcxlqy        1519\n",
      "4133        hqlxjm        1843\n",
      "3294       jhtcrsee       1780\n",
      "3203         mrbr         1942\n",
      "3510        xpwcrk        1405\n",
      "4606        llqxjb        1580\n",
      "3504        tlhjkr        1265\n"
     ]
    }
   ],
   "source": [
    "with open('studnet_details.txt', 'r') as sd:\n",
    "    \n",
    "    for i in range(rows):\n",
    "        \n",
    "        line_sd = sd.readline().strip()\n",
    "        \n",
    "        roll_no = line_sd.split(',')[0]\n",
    "        name = line_sd.split(',')[1]\n",
    "        fac_id = line_sd.split(',')[2]\n",
    "        \n",
    "        to_print = roll_no.ljust(10) + name.center(10) + fac_id.rjust(10)\n",
    "        \n",
    "        print(to_print)"
   ]
  },
  {
   "cell_type": "code",
   "execution_count": null,
   "metadata": {},
   "outputs": [],
   "source": []
  },
  {
   "cell_type": "markdown",
   "metadata": {},
   "source": [
    "## faculty record"
   ]
  },
  {
   "cell_type": "code",
   "execution_count": 6,
   "metadata": {},
   "outputs": [
    {
     "name": "stdout",
     "output_type": "stream",
     "text": [
      "fac_name      fac_id\n",
      "rpwozyu         1686\n",
      "kjfx            1932\n",
      "jqhqkit         1118\n",
      "jyslfp          1719\n",
      "cjdv            1372\n",
      "pcit            1014\n",
      "bayjed          1873\n",
      "yavu            1576\n",
      "ezbahws         1021\n",
      "gxhbzg          1227\n",
      "toro            1262\n",
      "luhz            1194\n",
      "mrezmnoo        1519\n",
      "hdpuyd          1843\n",
      "iifnimp         1780\n",
      "srhbchy         1942\n",
      "incxb           1405\n",
      "wtazo           1580\n",
      "bxbp            1265\n"
     ]
    }
   ],
   "source": [
    "with open('faculty.txt', 'r') as fac_file:\n",
    "    \n",
    "    \n",
    "    for i in range(rows):\n",
    "        \n",
    "        line_f = fac_file.readline().strip()\n",
    "        \n",
    "        name = line_f.split(',')[0]\n",
    "        fac_id = line_f.split(',')[1]\n",
    "        \n",
    "        to_print = str(name).ljust(10) +  str(fac_id).rjust(10)\n",
    "        \n",
    "        print(to_print)"
   ]
  },
  {
   "cell_type": "code",
   "execution_count": null,
   "metadata": {},
   "outputs": [],
   "source": []
  },
  {
   "cell_type": "markdown",
   "metadata": {},
   "source": [
    "### Marks sheet of student"
   ]
  },
  {
   "cell_type": "code",
   "execution_count": 7,
   "metadata": {},
   "outputs": [
    {
     "name": "stdout",
     "output_type": "stream",
     "text": [
      "roll_no   m1  m2  m3  m4  m5\n",
      "3959      64  42  92  41  33\n",
      "4802      83  59  71  100  64\n",
      "4059      33  64  91  79  100\n",
      "3707      42  49  72  52  33\n",
      "3640      35  92  72  39  64\n",
      "4661      43  65  65  34  91\n",
      "4479      44  75  57  40  49\n",
      "3546      91  94  46  60  36\n",
      "3013      42  97  60  88  71\n",
      "4867      79  50  45  60  77\n",
      "4905      88  63  36  64  37\n",
      "4725      36  95  75  74  85\n",
      "4010      54  58  48  56  45\n",
      "4133      89  47  79  81  61\n",
      "3294      89  94  49  36  88\n",
      "3203      70  93  33  98  57\n",
      "3510      87  33  85  65  62\n",
      "4606      67  41  92  75  76\n",
      "3504      74  72  87  35  56\n"
     ]
    }
   ],
   "source": [
    "with open('marks.txt', 'r') as mf:\n",
    "\n",
    "    for j in range(rows):\n",
    "            \n",
    "        line_mf = mf.readline().strip()\n",
    "        roll_no = line_mf.split(',')[0]\n",
    "        mark = line_mf.split(',')[1:]\n",
    "            \n",
    "        to_print = roll_no.ljust(10) + '  '.join(mark).rjust(5)\n",
    "        \n",
    "        print(to_print)"
   ]
  },
  {
   "cell_type": "code",
   "execution_count": null,
   "metadata": {},
   "outputs": [],
   "source": []
  },
  {
   "cell_type": "markdown",
   "metadata": {},
   "source": [
    "### All marks details for each student"
   ]
  },
  {
   "cell_type": "code",
   "execution_count": 8,
   "metadata": {},
   "outputs": [
    {
     "name": "stdout",
     "output_type": "stream",
     "text": [
      "roll_no           name        m1  m2  m3  m4  m5\n",
      "3959             astrqt       64  42  92  41  33\n",
      "4802              diug        83  59  71  100  64\n",
      "4059            bwvlwkj       33  64  91  79  100\n",
      "3707            nxrauvf       42  49  72  52  33\n",
      "3640            xjubxqg       35  92  72  39  64\n",
      "4661             nrkor        43  65  65  34  91\n",
      "4479             wlcpuq       44  75  57  40  49\n",
      "3546            wuqmqhlk      91  94  46  60  36\n",
      "3013            atjzsxzr      42  97  60  88  71\n",
      "4867             jurtyy       79  50  45  60  77\n",
      "4905              vgrl        88  63  36  64  37\n",
      "4725             elpfhi       36  95  75  74  85\n",
      "4010            bhcxlqy       54  58  48  56  45\n",
      "4133             hqlxjm       89  47  79  81  61\n",
      "3294            jhtcrsee      89  94  49  36  88\n",
      "3203              mrbr        70  93  33  98  57\n",
      "3510             xpwcrk       87  33  85  65  62\n",
      "4606             llqxjb       67  41  92  75  76\n",
      "3504             tlhjkr       74  72  87  35  56\n"
     ]
    }
   ],
   "source": [
    "with open('studnet_details.txt', 'r') as sd:\n",
    "    \n",
    "    with open('marks.txt', 'r') as mf:\n",
    "        \n",
    "        marks = {}\n",
    "        \n",
    "        for j in range(rows):\n",
    "            \n",
    "            line_mf = mf.readline().strip()\n",
    "            roll_no = line_mf.split(',')[0]\n",
    "            mark = line_mf.split(',')[1:]\n",
    "            \n",
    "            marks[roll_no] = mark\n",
    "        \n",
    "        for i in range(rows):\n",
    "            \n",
    "            line_sd = sd.readline().strip()\n",
    "            roll_no = line_sd.split(',')[0]\n",
    "            name = line_sd.split(',')[1]\n",
    "            \n",
    "            to_print = roll_no.ljust(10) + name.center(20) + '  '.join(marks[roll_no]).rjust(5)\n",
    "            \n",
    "            print(to_print)"
   ]
  },
  {
   "cell_type": "code",
   "execution_count": null,
   "metadata": {},
   "outputs": [],
   "source": []
  }
 ],
 "metadata": {
  "kernelspec": {
   "display_name": "Python 3",
   "language": "python",
   "name": "python3"
  },
  "language_info": {
   "codemirror_mode": {
    "name": "ipython",
    "version": 3
   },
   "file_extension": ".py",
   "mimetype": "text/x-python",
   "name": "python",
   "nbconvert_exporter": "python",
   "pygments_lexer": "ipython3",
   "version": "3.7.7"
  }
 },
 "nbformat": 4,
 "nbformat_minor": 4
}
