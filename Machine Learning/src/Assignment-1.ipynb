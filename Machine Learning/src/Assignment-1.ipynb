{
 "cells": [
  {
   "cell_type": "markdown",
   "metadata": {},
   "source": [
    "# Assignment 1"
   ]
  },
  {
   "cell_type": "markdown",
   "metadata": {},
   "source": [
    "####  Question-1 Perform the arithmetic operations between the variables\n",
    "• Addition \n",
    "• Subtraction\n",
    "• Division\n",
    "• Multiplication\n",
    "• Modulus\n",
    "• Exponentiation \n",
    "• Floor Division"
   ]
  },
  {
   "cell_type": "code",
   "execution_count": 1,
   "metadata": {},
   "outputs": [],
   "source": [
    "a,b = 2,4"
   ]
  },
  {
   "cell_type": "code",
   "execution_count": 2,
   "metadata": {},
   "outputs": [
    {
     "name": "stdout",
     "output_type": "stream",
     "text": [
      "a+b =  6\n",
      "a-b =  -2\n",
      "a*b =  8\n",
      "a/b =  0.5\n",
      "a%b =  2\n",
      "a**b =  16\n",
      "a//b =  0\n"
     ]
    }
   ],
   "source": [
    "print('a+b = ', a+b)\n",
    "print('a-b = ', a-b)\n",
    "print('a*b = ', a*b)\n",
    "print('a/b = ', a/b)\n",
    "print('a%b = ', a%b)\n",
    "print('a**b = ', a**b)\n",
    "print('a//b = ', a//b)"
   ]
  },
  {
   "cell_type": "markdown",
   "metadata": {},
   "source": [
    "#### Question-2 Take input from user such as name and age and print the same"
   ]
  },
  {
   "cell_type": "code",
   "execution_count": 3,
   "metadata": {},
   "outputs": [
    {
     "name": "stdout",
     "output_type": "stream",
     "text": [
      "Enter your name \n",
      "Naruto\n",
      "Enter your age \n",
      "20\n",
      "Naruto 20\n"
     ]
    }
   ],
   "source": [
    "name = input(\"Enter your name \\n\")\n",
    "age = int(input(\"Enter your age \\n\"))\n",
    "\n",
    "print(name, age)"
   ]
  },
  {
   "cell_type": "markdown",
   "metadata": {},
   "source": [
    "#### Question-3 Assign multiple values to multiple variables in a single line and display them"
   ]
  },
  {
   "cell_type": "code",
   "execution_count": 4,
   "metadata": {},
   "outputs": [
    {
     "name": "stdout",
     "output_type": "stream",
     "text": [
      "Great Great Great Naruto\n"
     ]
    }
   ],
   "source": [
    "a,b,c,d = 3,'Great ',1,'Naruto'\n",
    "\n",
    "print(b*a + d*c)"
   ]
  },
  {
   "cell_type": "markdown",
   "metadata": {},
   "source": [
    "#### Question-4 Convert the temperature celsius to Fahrenheit"
   ]
  },
  {
   "cell_type": "code",
   "execution_count": 5,
   "metadata": {},
   "outputs": [
    {
     "name": "stdout",
     "output_type": "stream",
     "text": [
      "68.0\n"
     ]
    }
   ],
   "source": [
    "def celsius_to_fahrenheit(celsius):\n",
    "    \n",
    "    Fahrenheit = (celsius * 9/5) + 32\n",
    "    \n",
    "    return Fahrenheit\n",
    "\n",
    "print(celsius_to_fahrenheit(20))"
   ]
  },
  {
   "cell_type": "markdown",
   "metadata": {},
   "source": [
    "#### Question-5 Check whether the letters 'orld' exist in 'Hello world!' or not"
   ]
  },
  {
   "cell_type": "code",
   "execution_count": 6,
   "metadata": {},
   "outputs": [
    {
     "name": "stdout",
     "output_type": "stream",
     "text": [
      "True\n"
     ]
    }
   ],
   "source": [
    "if 'orld' in 'Hello world!':\n",
    "    print(True)"
   ]
  },
  {
   "cell_type": "markdown",
   "metadata": {},
   "source": [
    "#### Question-6 Prompts the user to input three integers and outputs the largest."
   ]
  },
  {
   "cell_type": "code",
   "execution_count": 7,
   "metadata": {},
   "outputs": [
    {
     "name": "stdout",
     "output_type": "stream",
     "text": [
      "Enter 3 numbers \n",
      "8 7 1\n",
      "8\n"
     ]
    }
   ],
   "source": [
    "a,b,c = map(int, input(\"Enter 3 numbers \\n\").split(' '))\n",
    "number = max(a, max(b,c))\n",
    "print(number)"
   ]
  },
  {
   "attachments": {
    "image.png": {
     "image/png": "[encoded data removed]"
    }
   },
   "cell_type": "markdown",
   "metadata": {},
   "source": [
    "#### Question-7 The roots of the quadratic equation ax2 + bx + c = 0, a ≠ 0 are given by the following formula:\n",
    "\n",
    "![image.png](attachment:image.png)\n",
    "\n",
    "In this formula, the term b2 - 4ac is called the discriminant.\n",
    " * If b2 - 4ac = 0, then the equation has two equal roots.\n",
    " * If b2 - 4ac > 0, the equation has two real roots.\n",
    " * If b2 - 4ac < 0, the equation has two complex roots."
   ]
  },
  {
   "cell_type": "markdown",
   "metadata": {},
   "source": [
    "Question-8 \n",
    "Write a program that prompts the user to input the value of a (the coefficient of x2), b (the coefficient of x), and c (the constant term) and outputs the roots of the quadratic equation."
   ]
  },
  {
   "cell_type": "code",
   "execution_count": 8,
   "metadata": {},
   "outputs": [
    {
     "name": "stdout",
     "output_type": "stream",
     "text": [
      "Enter the value of a, b and c \n",
      "8 7 1\n",
      "-0.1798058983988962 -0.6951941016011038\n"
     ]
    }
   ],
   "source": [
    "a,b,c = map(int,input(\"Enter the value of a, b and c \\n\").split(' '))\n",
    "\n",
    "discimenent = (b**2 - 4*a*c)**(1/2)\n",
    "\n",
    "root1 = (-b+discimenent)/(2*a)\n",
    "root2 = (-b-discimenent)/(2*a)\n",
    "\n",
    "print(root1, root2)"
   ]
  },
  {
   "cell_type": "markdown",
   "metadata": {},
   "source": [
    "#### Question-9 Write a program that asks the user for a positive integer value. The program should calculate the sum of all the integers from 1 up to the number entered. For example, if the user enters 20, the loop will find the sum of 1, 2, 3, 4, ... 20"
   ]
  },
  {
   "cell_type": "code",
   "execution_count": 9,
   "metadata": {},
   "outputs": [
    {
     "name": "stdout",
     "output_type": "stream",
     "text": [
      "Enter the positive integer \n",
      "20\n",
      "210\n"
     ]
    }
   ],
   "source": [
    "integer = int(input(\"Enter the positive integer \\n\"))\n",
    "\n",
    "total = 0\n",
    "for i in range(integer+1):\n",
    "    total += i\n",
    "\n",
    "print(total)"
   ]
  },
  {
   "attachments": {
    "image.png": {
     "image/png": "[encoded data removed]"
    }
   },
   "cell_type": "markdown",
   "metadata": {},
   "source": [
    "#### Question-10 Display Floyd's triangle is a right-angled triangular array of natural numbers as shown below:\n",
    "![image.png](attachment:image.png)"
   ]
  },
  {
   "cell_type": "code",
   "execution_count": 10,
   "metadata": {},
   "outputs": [
    {
     "name": "stdout",
     "output_type": "stream",
     "text": [
      "1 \n",
      "2 3 \n",
      "4 5 6 \n",
      "7 8 9 10 \n",
      "11 12 13 14 15 \n"
     ]
    }
   ],
   "source": [
    "k = 1\n",
    "for i in range(1, 5 + 1):\n",
    "    for j in range(1, i + 1):\n",
    "        print(k, end=\" \")\n",
    "        k = k + 1\n",
    "    print()"
   ]
  }
 ],
 "metadata": {
  "kernelspec": {
   "display_name": "Python 3",
   "language": "python",
   "name": "python3"
  },
  "language_info": {
   "codemirror_mode": {
    "name": "ipython",
    "version": 3
   },
   "file_extension": ".py",
   "mimetype": "text/x-python",
   "name": "python",
   "nbconvert_exporter": "python",
   "pygments_lexer": "ipython3",
   "version": "3.7.7"
  }
 },
 "nbformat": 4,
 "nbformat_minor": 4
}
