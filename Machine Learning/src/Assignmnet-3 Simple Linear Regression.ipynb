{
 "cells": [
  {
   "cell_type": "markdown",
   "metadata": {},
   "source": [
    "## Task - 2 and 3"
   ]
  },
  {
   "cell_type": "code",
   "execution_count": 1,
   "metadata": {},
   "outputs": [
    {
     "name": "stdout",
     "output_type": "stream",
     "text": [
      "Mean absolute Error  4925.939635018669\n",
      "Mean Squared Error  38061119.77255506\n",
      "Mean absoulte error using self defined function  4925.939635018669\n",
      "Mean squared error using self defined function  38061119.77255506\n",
      "Root mean squared error using self defined function  6169.369479335393\n"
     ]
    }
   ],
   "source": [
    "import pandas as pd\n",
    "import numpy as np\n",
    "from sklearn.linear_model import LinearRegression\n",
    "from sklearn.model_selection import train_test_split\n",
    "from sklearn.metrics import mean_absolute_error, mean_squared_error\n",
    "\n",
    "import warnings\n",
    "warnings.filterwarnings('ignore')\n",
    "\n",
    "# Importing the Dataset\n",
    "data = pd.read_csv('../input/Stipend_Data.csv')\n",
    "\n",
    "# Defining features and labels\n",
    "x = np.array(data['YearsExperience'])\n",
    "y = data['Salary']\n",
    "\n",
    "# Reshaping X as a 2D Matrix\n",
    "x = x.reshape(30,-1)\n",
    "\n",
    "# Splitting the Data into train and test\n",
    "x_train, x_test, y_train, y_test = train_test_split(x,y, test_size=0.3)\n",
    "\n",
    "# Making LinearRegression model\n",
    "linear_model = LinearRegression()\n",
    "\n",
    "# Fitting the model on training data\n",
    "linear_model.fit(x_train, y_train)\n",
    "\n",
    "# Predicting the values for test data\n",
    "y_pred = linear_model.predict(x_test)\n",
    "\n",
    "# Finding mean_absolute_error on test data\n",
    "print(\"Mean absolute Error \", mean_absolute_error(y_test, y_pred))\n",
    "\n",
    "# Finding mean_squared_error on test data\n",
    "print(\"Mean Squared Error \", mean_squared_error(y_test, y_pred))\n",
    "\n",
    "\n",
    "# Making myown error funtions\n",
    "#==================================================================\n",
    "\n",
    "def mean_absolute_error_self(y_true, y_predicted):\n",
    "    \n",
    "    total = 0\n",
    "    \n",
    "    for i,j in zip(y_true, y_predicted):\n",
    "        \n",
    "        if i-j > 0:\n",
    "            total += (i-j)\n",
    "    \n",
    "        else:\n",
    "            total += (j-i)\n",
    "            \n",
    "    return (total/y_true.shape[0])\n",
    "\n",
    "#==================================================================    \n",
    "    \n",
    "def mean_squared_error_self(y_true, y_predicted):\n",
    "    \n",
    "    total = 0\n",
    "    \n",
    "    for i,j in zip(y_true, y_predicted):\n",
    "        \n",
    "        total += (i-j)**2\n",
    "        \n",
    "    return (total/y_true.shape[0])\n",
    "    \n",
    "#===================================================================\n",
    "\n",
    "def root_mean_squared_error(y_true, y_predicted):\n",
    "    \n",
    "    total = 0\n",
    "    \n",
    "    for i,j in zip(y_true, y_predicted):\n",
    "        \n",
    "        total += (i-j)**2\n",
    "    \n",
    "    total_final = (total/y_true.shape[0])**(1/2)\n",
    "    \n",
    "    return total_final\n",
    "    \n",
    "#====================================================================\n",
    "\n",
    "print(\"Mean absoulte error using self defined function \", mean_absolute_error_self(y_test, y_pred))\n",
    "\n",
    "print(\"Mean squared error using self defined function \", mean_squared_error_self(y_test, y_pred))\n",
    "\n",
    "print(\"Root mean squared error using self defined function \", root_mean_squared_error(y_test, y_pred))"
   ]
  },
  {
   "cell_type": "markdown",
   "metadata": {},
   "source": [
    "## Task - 5"
   ]
  },
  {
   "cell_type": "code",
   "execution_count": 2,
   "metadata": {},
   "outputs": [
    {
     "name": "stdout",
     "output_type": "stream",
     "text": [
      "Mean squared error  125389.71847346953\n"
     ]
    }
   ],
   "source": [
    "import pandas as pd\n",
    "import numpy as np\n",
    "from sklearn.linear_model import LinearRegression\n",
    "from sklearn.model_selection import train_test_split\n",
    "from sklearn.metrics import mean_absolute_error, mean_squared_error\n",
    "\n",
    "import warnings\n",
    "warnings.filterwarnings('ignore')\n",
    "\n",
    "data = pd.read_csv('../input/kc_house_data.csv')\n",
    "\n",
    "x = data.drop(columns = ['id', 'price', 'date'])\n",
    "y = data['price']\n",
    "\n",
    "x_train, x_test, y_train, y_test = train_test_split(x,y, test_size=0.3)\n",
    "\n",
    "lr = LinearRegression()\n",
    "\n",
    "lr.fit(x_train, y_train)\n",
    "\n",
    "y_pred = lr.predict(x_test)\n",
    "\n",
    "print(\"Mean squared error \", mean_absolute_error(y_test, y_pred))"
   ]
  },
  {
   "cell_type": "markdown",
   "metadata": {},
   "source": [
    "#### Task-1 Video 2 is set to private and hence we can't watch it\n",
    "#### Task-6 and Task-4 Has the same dataset as the Task-2 and they are identical"
   ]
  }
 ],
 "metadata": {
  "kernelspec": {
   "display_name": "Python 3",
   "language": "python",
   "name": "python3"
  },
  "language_info": {
   "codemirror_mode": {
    "name": "ipython",
    "version": 3
   },
   "file_extension": ".py",
   "mimetype": "text/x-python",
   "name": "python",
   "nbconvert_exporter": "python",
   "pygments_lexer": "ipython3",
   "version": "3.7.7"
  }
 },
 "nbformat": 4,
 "nbformat_minor": 4
}
